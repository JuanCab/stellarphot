{
 "cells": [
  {
   "cell_type": "code",
   "execution_count": null,
   "metadata": {
    "tags": []
   },
   "outputs": [],
   "source": [
    "from astropy.coordinates import SkyCoord\n",
    "import astropy.units as u\n",
    "from astropy.table import Table\n",
    "from astropy.time import Time\n",
    "\n",
    "import ipywidgets as ipw\n",
    "\n",
    "import matplotlib.pyplot as plt\n",
    "\n",
    "import numpy as np\n",
    "\n",
    "from stellarphot.differential_photometry.aij_rel_fluxes import calc_aij_relative_flux\n",
    "from stellarphot.settings.fits_opener import FitsOpener\n",
    "from stellarphot import PhotometryData, SourceListData"
   ]
  },
  {
   "cell_type": "markdown",
   "metadata": {},
   "source": [
    "### Choose photometry and aperture files"
   ]
  },
  {
   "cell_type": "code",
   "execution_count": null,
   "metadata": {
    "tags": []
   },
   "outputs": [],
   "source": [
    "fits_openr = FitsOpener(title=\"Select your photometry file\", filter_pattern=[\"*.csv\", \"*.ecsv\"])\n",
    "fits_openr2 = FitsOpener(\n",
    "    title=\"Select your aperture file\", filter_pattern=[\"*.csv\", \"*.fits\", \"*.ecsv\"]\n",
    ")"
   ]
  },
  {
   "cell_type": "code",
   "execution_count": null,
   "metadata": {
    "tags": []
   },
   "outputs": [],
   "source": [
    "box = ipw.VBox()\n",
    "box.children = [fits_openr.file_chooser, fits_openr2.file_chooser]\n",
    "box"
   ]
  },
  {
   "cell_type": "markdown",
   "metadata": {},
   "source": [
    "### Run the remaining cells"
   ]
  },
  {
   "cell_type": "code",
   "execution_count": null,
   "metadata": {
    "tags": []
   },
   "outputs": [],
   "source": [
    "aperture_file = fits_openr2.path\n",
    "photometry_file = fits_openr.path\n",
    "\n",
    "output_file = photometry_file.stem + \"-relative-flux\" + photometry_file.suffix"
   ]
  },
  {
   "cell_type": "code",
   "execution_count": null,
   "metadata": {
    "tags": []
   },
   "outputs": [],
   "source": [
    "photometry = PhotometryData.read(photometry_file)"
   ]
  },
  {
   "cell_type": "code",
   "execution_count": null,
   "metadata": {
    "tags": []
   },
   "outputs": [],
   "source": [
    "comp_table = SourceListData.read(aperture_file)"
   ]
  },
  {
   "cell_type": "code",
   "execution_count": null,
   "metadata": {
    "tags": []
   },
   "outputs": [],
   "source": [
    "comp_table[\"coord\"] = SkyCoord(\n",
    "    ra=comp_table[\"ra\"], dec=comp_table[\"dec\"], frame=\"icrs\"\n",
    ")\n",
    "comp_bool = comp_table[\"marker name\"] == [\"APASS comparison\"]\n",
    "only_comp_stars = comp_table[comp_bool]\n",
    "coords = only_comp_stars[\"coord\"]"
   ]
  },
  {
   "cell_type": "markdown",
   "metadata": {},
   "source": [
    "### Calculate flux"
   ]
  },
  {
   "cell_type": "code",
   "execution_count": null,
   "metadata": {
    "tags": []
   },
   "outputs": [],
   "source": [
    "# calculate flux\n",
    "flux_table = calc_aij_relative_flux(photometry, only_comp_stars)"
   ]
  },
  {
   "cell_type": "code",
   "execution_count": null,
   "metadata": {},
   "outputs": [],
   "source": [
    "if \"bjd\" not in flux_table.colnames:\n",
    "    flux_group = flux_table.group_by(\"file\")\n",
    "    # Add dummy BJD column so the whole table has one\n",
    "    flux[\"bjd\"] = np.nan\n",
    "    for group in flux_group.groups:\n",
    "        mean_ra = group[\"ra\"].mean()\n",
    "        mean_dec = group[\"dec\"].mean()\n",
    "        group.add_bjd_col(bjd_coordinates=SkyCoord(mean_ra, mean_dec))"
   ]
  },
  {
   "cell_type": "code",
   "execution_count": null,
   "metadata": {
    "tags": []
   },
   "outputs": [],
   "source": [
    "flux_table.write(output_file, overwrite=True)"
   ]
  },
  {
   "cell_type": "code",
   "execution_count": null,
   "metadata": {},
   "outputs": [],
   "source": []
  }
 ],
 "metadata": {
  "kernelspec": {
   "display_name": "Python 3 (ipykernel)",
   "language": "python",
   "name": "python3"
  },
  "language_info": {
   "codemirror_mode": {
    "name": "ipython",
    "version": 3
   },
   "file_extension": ".py",
   "mimetype": "text/x-python",
   "name": "python",
   "nbconvert_exporter": "python",
   "pygments_lexer": "ipython3",
   "version": "3.11.9"
  }
 },
 "nbformat": 4,
 "nbformat_minor": 4
}
