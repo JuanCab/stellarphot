{
 "cells": [
  {
   "cell_type": "code",
   "execution_count": null,
   "id": "e5f2fc8f-b893-400e-8fb7-4dd8e871334f",
   "metadata": {},
   "outputs": [],
   "source": [
    "import ipywidgets as ipw\n",
    "\n",
    "from stellarphot.settings.custom_widgets import PhotometryRunner"
   ]
  },
  {
   "cell_type": "code",
   "execution_count": null,
   "id": "c5eed8a2-7533-4411-8f6e-303b854f4e3e",
   "metadata": {},
   "outputs": [],
   "source": [
    "kab = PhotometryRunner()\n",
    "kab"
   ]
  },
  {
   "cell_type": "code",
   "execution_count": null,
   "id": "efcc3d42-3a2f-46b2-9f13-4a23c0790dc2",
   "metadata": {},
   "outputs": [],
   "source": []
  }
 ],
 "metadata": {
  "kernelspec": {
   "display_name": "Python 3 (ipykernel)",
   "language": "python",
   "name": "python3"
  },
  "language_info": {
   "codemirror_mode": {
    "name": "ipython",
    "version": 3
   },
   "file_extension": ".py",
   "mimetype": "text/x-python",
   "name": "python",
   "nbconvert_exporter": "python",
   "pygments_lexer": "ipython3",
   "version": "3.11.8"
  }
 },
 "nbformat": 4,
 "nbformat_minor": 5
}
