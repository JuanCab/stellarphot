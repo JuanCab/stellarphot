{
 "cells": [
  {
   "cell_type": "code",
   "execution_count": null,
   "id": "9be000e1-91c2-4686-972e-fadbfd26a834",
   "metadata": {},
   "outputs": [],
   "source": [
    "from ipyautoui import AutoUi\n",
    "import ipywidgets as ipw"
   ]
  },
  {
   "cell_type": "code",
   "execution_count": null,
   "id": "6ecbdeea-e2f0-46f6-bcc4-33edc5c7e2a4",
   "metadata": {},
   "outputs": [],
   "source": [
    "from ipyautoui import AutoUi\n",
    "import ipywidgets as ipw"
   ]
  },
  {
   "cell_type": "code",
   "execution_count": null,
   "id": "b291300e-1bb2-4f00-96c7-4236286d0c2e",
   "metadata": {},
   "outputs": [],
   "source": [
    "from stellarphot.settings import (\n",
    "    Camera, \n",
    "    LoggingSettings,\n",
    "    Observatory, \n",
    "    PhotometryApertures, \n",
    "    Exoplanet, \n",
    "    PhotometrySettings, \n",
    "    PassbandMap,\n",
    ")\n",
    "from stellarphot.settings.models import _extract_short_description\n",
    "from stellarphot.settings import ui_generator\n",
    "from pydantic import BaseModel"
   ]
  },
  {
   "cell_type": "code",
   "execution_count": null,
   "id": "ac061641-c4bd-4425-adfd-531cc311ce00",
   "metadata": {},
   "outputs": [],
   "source": [
    "classes = [Camera, Observatory, PhotometryApertures, LoggingSettings, PassbandMap, Exoplanet, PhotometrySettings]\n",
    "\n",
    "uis = [ui_generator(c) for c in classes]\n",
    "\n",
    "# for ui in uis:\n",
    "#     ui.show_validation = False\n",
    "#     ui.show_null = True\n",
    "#     ui.description = _extract_short_description(ui.description)"
   ]
  },
  {
   "cell_type": "code",
   "execution_count": null,
   "id": "3d26814b-775e-4f72-b535-ebce1b23e5d6",
   "metadata": {},
   "outputs": [],
   "source": [
    "tabs = ipw.Tab()\n",
    "tabs.children = uis\n",
    "tabs.titles = [c.__name__ for c in classes]\n",
    "tabs"
   ]
  },
  {
   "cell_type": "code",
   "execution_count": null,
   "id": "51403657-ca4e-4615-bc59-65b93e3fad6d",
   "metadata": {},
   "outputs": [],
   "source": [
    "ui = uis[-1]"
   ]
  },
  {
   "cell_type": "code",
   "execution_count": null,
   "id": "1c6610f7-1973-4a9b-b755-49bbacac7e78",
   "metadata": {},
   "outputs": [],
   "source": [
    "ui.value"
   ]
  },
  {
   "cell_type": "code",
   "execution_count": null,
   "id": "4292410c-206d-4a1b-a30c-b227f22517d7",
   "metadata": {},
   "outputs": [],
   "source": [
    "ui_generator(PhotometrySettings)"
   ]
  },
  {
   "cell_type": "code",
   "execution_count": null,
   "id": "b00ce1bf-6406-495c-94eb-9eae16b9ded3",
   "metadata": {},
   "outputs": [],
   "source": [
    "ui.show_validation = False\n",
    "ui.show_null = True"
   ]
  },
  {
   "cell_type": "code",
   "execution_count": null,
   "id": "dbc072a0-1f35-43ea-9721-ec9b30065b59",
   "metadata": {},
   "outputs": [],
   "source": [
    "uis[-1].value[\"your_filter_names_to_aavso\"][:1]"
   ]
  },
  {
   "cell_type": "code",
   "execution_count": null,
   "id": "b4c579f6-6b1d-4765-bfe8-2db766ad7988",
   "metadata": {},
   "outputs": [],
   "source": [
    "pbm = PassbandMap(your_filter_names_to_aavso=uis[-1].value[\"your_filter_names_to_aavso\"])"
   ]
  },
  {
   "cell_type": "code",
   "execution_count": null,
   "id": "54589e56-2f09-434f-9703-ea391eaf1bc7",
   "metadata": {},
   "outputs": [],
   "source": [
    "print(pbm.model_dump_json(indent=2))"
   ]
  },
  {
   "cell_type": "code",
   "execution_count": null,
   "id": "e9e030f0-6797-4736-b7b2-eb61e52f0585",
   "metadata": {},
   "outputs": [],
   "source": [
    "class PhotomSettings(BaseModel):\n",
    "    camera: Camera | None = None\n",
    "    observatory: Observatory | None = None\n",
    "    apertures: PhotometryApertures | None = None"
   ]
  },
  {
   "cell_type": "code",
   "execution_count": null,
   "id": "04a620ee-1a60-4298-ab5b-c0477d1b4717",
   "metadata": {},
   "outputs": [],
   "source": [
    "pm = PhotomSettings()"
   ]
  },
  {
   "cell_type": "code",
   "execution_count": null,
   "id": "25017075-3ce3-4eee-b3b8-3e7df3e698a4",
   "metadata": {},
   "outputs": [],
   "source": [
    "AutoUi(PhotomSettings)"
   ]
  },
  {
   "cell_type": "code",
   "execution_count": null,
   "id": "0b6a550b-3cb6-46c7-acdd-b8eef7d280bf",
   "metadata": {
    "scrolled": true
   },
   "outputs": [],
   "source": [
    "class DictaFoo(BaseModel):\n",
    "    dicta: dict"
   ]
  },
  {
   "cell_type": "code",
   "execution_count": null,
   "id": "e3c30f66-0514-4b02-af5f-8f802a0ed8d7",
   "metadata": {},
   "outputs": [],
   "source": [
    "AutoUi(DictaFoo)"
   ]
  },
  {
   "cell_type": "code",
   "execution_count": null,
   "id": "afa62dc9-f6d6-4d12-a2e8-fb689a6d6df1",
   "metadata": {},
   "outputs": [],
   "source": [
    "from stellarphot.settings.models import _PassbandMapEntry\n",
    "\" \".join(_PassbandMapEntry.__doc__.split('\\n\\n')[0].replace('\\n', ' ').split())"
   ]
  },
  {
   "cell_type": "code",
   "execution_count": null,
   "id": "83b25581-c0a1-44e7-8d8f-20d7d756836d",
   "metadata": {},
   "outputs": [],
   "source": [
    "from typing import Annotated\n",
    "from pydantic import BaseModel, Field\n",
    "\n",
    "from ipyautoui import AutoUi\n",
    "\n",
    "class NestedStr(BaseModel):\n",
    "    \"\"\"A nested model\"\"\"\n",
    "    string: str\n",
    "\n",
    "class NestedFloat(BaseModel):\n",
    "    \"\"\"Nested float\"\"\"\n",
    "    number: float | None\n",
    "\n",
    "class Compound(BaseModel):\n",
    "    \"\"\"My compound model\"\"\"\n",
    "    nest_str_1: Annotated[\n",
    "        NestedStr,\n",
    "        Field(description=\"Overridden description nest_str_1\")\n",
    "    ]\n",
    "    nest_str_2: NestedStr = Field(description=\"Non-annotated overridden description nest_str_2\")\n",
    "    nest_str_3: NestedStr = Field(title=\"NestedStr\", description=\"Overridden, and title doesn't work nest_str_3\")\n",
    "    nest_str_4: NestedStr = Field(title=\"Nested Str\", description=\"Overridden, this title works nest_str_4\")\n",
    "    nest_float: NestedFloat\n",
    "\n",
    "AutoUi(Compound)"
   ]
  },
  {
   "cell_type": "code",
   "execution_count": null,
   "id": "53599a47-ee36-466a-807f-8f8e5c1c7a7d",
   "metadata": {},
   "outputs": [],
   "source": [
    "AutoUi(Compound)"
   ]
  },
  {
   "cell_type": "code",
   "execution_count": null,
   "id": "c2cdc0a5-7788-49a8-974e-e2a5891c2c53",
   "metadata": {},
   "outputs": [],
   "source": []
  }
 ],
 "metadata": {
  "kernelspec": {
   "display_name": "Python 3 (ipykernel)",
   "language": "python",
   "name": "python3"
  },
  "language_info": {
   "codemirror_mode": {
    "name": "ipython",
    "version": 3
   },
   "file_extension": ".py",
   "mimetype": "text/x-python",
   "name": "python",
   "nbconvert_exporter": "python",
   "pygments_lexer": "ipython3",
   "version": "3.11.7"
  }
 },
 "nbformat": 4,
 "nbformat_minor": 5
}
