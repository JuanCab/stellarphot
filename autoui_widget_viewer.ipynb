{
 "cells": [
  {
   "cell_type": "code",
   "execution_count": null,
   "id": "9be000e1-91c2-4686-972e-fadbfd26a834",
   "metadata": {},
   "outputs": [],
   "source": [
    "from pathlib import Path\n",
    "\n",
    "from astropy.table import Table"
   ]
  },
  {
   "cell_type": "code",
   "execution_count": null,
   "id": "6ecbdeea-e2f0-46f6-bcc4-33edc5c7e2a4",
   "metadata": {},
   "outputs": [],
   "source": [
    "from ipyautoui import AutoUi\n",
    "import ipywidgets as ipw"
   ]
  },
  {
   "cell_type": "code",
   "execution_count": null,
   "id": "b291300e-1bb2-4f00-96c7-4236286d0c2e",
   "metadata": {},
   "outputs": [],
   "source": [
    "from stellarphot import SourceListData\n",
    "\n",
    "from stellarphot.settings import (\n",
    "    Camera, \n",
    "    LoggingSettings,\n",
    "    Observatory, \n",
    "    PhotometryApertures, \n",
    "    Exoplanet, \n",
    "    PhotometrySettings, \n",
    "    PhotometryOptions,\n",
    "    PassbandMap,\n",
    "    SourceLocationSettings,\n",
    ")\n",
    "from stellarphot.settings.models import _extract_short_description\n",
    "from stellarphot.settings import ui_generator\n",
    "from pydantic import BaseModel"
   ]
  },
  {
   "cell_type": "code",
   "execution_count": null,
   "id": "c6dab0a9-e02c-4f06-a1da-4a6349ac1796",
   "metadata": {},
   "outputs": [],
   "source": [
    "sl = SourceListData(Table({'star_id': [1, 2], 'ra': [0.1, 0.2], 'dec': [12.3, 12.2]}, units=[None, \"degree\", \"degree\"]))"
   ]
  },
  {
   "cell_type": "code",
   "execution_count": null,
   "id": "9234124e-bf47-45cf-ad8b-0531d60bdcda",
   "metadata": {},
   "outputs": [],
   "source": [
    "sl.write(\"source_list_file.ecsv\", overwrite=True)"
   ]
  },
  {
   "cell_type": "code",
   "execution_count": null,
   "id": "ac061641-c4bd-4425-adfd-531cc311ce00",
   "metadata": {},
   "outputs": [],
   "source": [
    "classes = [Camera, Observatory, PassbandMap, PhotometryApertures, SourceLocationSettings, PhotometryOptions, LoggingSettings]\n",
    "\n",
    "uis = [ui_generator(c) for c in classes]\n",
    "\n",
    "for ui in uis:\n",
    "    ui.path = Path(ui.title + \".json\")"
   ]
  },
  {
   "cell_type": "markdown",
   "id": "93beccb6-9ec0-4a78-bf24-68bfa18f0e03",
   "metadata": {},
   "source": [
    "# Instructions\n",
    "\n",
    "1. Guidance about entering some of the values that are needed is in the section \"Entering values\"\n",
    "2. After that, there are two sections wehere you will try entring some settings. Please try each and take notes on what like/don't like/are confused about.\n",
    "3. In each, click the green save button to make a json file with those settings.\n",
    "4. When you are done, please email your comments and any json files made by this notebook."
   ]
  },
  {
   "cell_type": "markdown",
   "id": "f24eb5a3-308b-43c6-920e-cfccb1623ac1",
   "metadata": {},
   "source": [
    "## Entering values\n",
    "\n",
    "+ **Values with units**\n",
    "    + Some values, like gain for the camera, needs units. Enter those by typing the number and units into the box, e.g. \"1.5 electron / adu\".\n",
    "    + In the observatory section, enter latitude and longitude as decimal degrees, and include a unit, e.g. meter, in the elevation.\n",
    "+ **Passband map**: There are three buttons to push to get to the point where you can enter a filter and choose the AAVSO filter it matches to. See the screenshot below. A good test value here is to put in `rp` for \"your\" filter, and choose `SR` as the corresponding AAVSO filter.\n",
    "\n",
    "![Passband map](https://previews.dropbox.com/p/thumb/ACOJuKO0mOe-FFWBDAjYqDSLAo8q90yIca18V1Ln7ksUyukXvlp0TRcQJEhipsx140ksInFiC0uvABV0eO8pTCqfrQcBbcMXVYiAPYIzf7DVI8HMJdZk2Wc0JmJMxAFgG2Cq-4wc2LegVJabF5MhPwEOAywfnq_IV_U8OgJFLgGb5iFFDLAMSgC8fwiU0jRdPIwB2tQcFGWlV5pJU0qBhfbWyNxwSqylvXThBjcAKDtvdcrVcUOxcaaiY_Qn7e8Ee_3mcD2oWPypz-Ov-V-5gIzPZVFSCaVRWBBblb_zEDQJ1TBCA2LSXikLf5G2vq4f0san4URsqttJJxAKrhSFW9q9/p.png)"
   ]
  },
  {
   "cell_type": "markdown",
   "id": "ca552437-3287-4ca4-8f3a-8cef709c0932",
   "metadata": {},
   "source": [
    "## Individual setting groups\n",
    "\n",
    "Please try filling out the individual groups of settings below. Note anything you find confusing, unusual, or incorrect.\n",
    "\n",
    "For each setting group, once the settings are \"Valid\" please press the green \"Save\" icon for that group. That will generate one file per tab, so 7 files total. Please email those along with your experience with the interface."
   ]
  },
  {
   "cell_type": "code",
   "execution_count": null,
   "id": "3d26814b-775e-4f72-b535-ebce1b23e5d6",
   "metadata": {},
   "outputs": [],
   "source": [
    "tabs = ipw.Tab()\n",
    "tabs.children = uis\n",
    "tabs.titles = [c.__name__ for c in classes]\n",
    "tabs"
   ]
  },
  {
   "cell_type": "markdown",
   "id": "6124aab2-449a-40b0-8284-f3b96e2d77de",
   "metadata": {},
   "source": [
    "## Combined settings\n",
    "\n",
    "This is the same set of information you enetered above but now presented as a single interface. Please fill this version out and note anything you find confusing, unusual, or incorrect.\n",
    "\n",
    "For each group of settings (camera, obervatory, etc) click the \"Show\" button to view that item's settings.\n",
    "\n",
    "When you have finished the settings please click the green \"Save\" icon and and email the file."
   ]
  },
  {
   "cell_type": "code",
   "execution_count": null,
   "id": "89472b65-69f5-439f-b34c-e26e3133e84c",
   "metadata": {
    "scrolled": true
   },
   "outputs": [],
   "source": [
    "all_photom = AutoUi(PhotometrySettings)\n",
    "all_photom.path = Path(\"combined_photometry_settings.json\")\n",
    "all_photom.show_validation = False\n",
    "all_photom"
   ]
  },
  {
   "cell_type": "code",
   "execution_count": null,
   "id": "51403657-ca4e-4615-bc59-65b93e3fad6d",
   "metadata": {},
   "outputs": [],
   "source": []
  },
  {
   "cell_type": "code",
   "execution_count": null,
   "id": "c2cdc0a5-7788-49a8-974e-e2a5891c2c53",
   "metadata": {},
   "outputs": [],
   "source": []
  }
 ],
 "metadata": {
  "kernelspec": {
   "display_name": "Python 3 (ipykernel)",
   "language": "python",
   "name": "python3"
  },
  "language_info": {
   "codemirror_mode": {
    "name": "ipython",
    "version": 3
   },
   "file_extension": ".py",
   "mimetype": "text/x-python",
   "name": "python",
   "nbconvert_exporter": "python",
   "pygments_lexer": "ipython3",
   "version": "3.11.7"
  }
 },
 "nbformat": 4,
 "nbformat_minor": 5
}
